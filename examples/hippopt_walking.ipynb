{
 "cells": [
  {
   "cell_type": "markdown",
   "metadata": {},
   "source": [
    "## Hippopt planner\n",
    "This example, load a basic robot model (i.e. composed only of basic shapes), modifies the links of such a robot model by elongating the legs, plans a forward walking trajecotry using Hippopt walking planner  "
   ]
  },
  {
   "cell_type": "code",
   "execution_count": null,
   "metadata": {},
   "outputs": [],
   "source": [
    "# Comodo import\n",
    "from comodo.robotModel.robotModel import RobotModel\n",
    "from comodo.robotModel.createUrdf import createUrdf\n",
    "from comodo.hippoptWalkingPlanner.hippoptWalkingPlanner  import HippoptWalkingPlanner\n",
    "from comodo.hippoptWalkingPlanner.hippoptWalkingPlannerParameterTuning import HippoptWalkingParameterTuning"
   ]
  },
  {
   "cell_type": "code",
   "execution_count": null,
   "metadata": {},
   "outputs": [],
   "source": [
    "# General  import \n",
    "import xml.etree.ElementTree as ET\n",
    "import numpy as np\n",
    "import tempfile\n",
    "import urllib.request"
   ]
  },
  {
   "cell_type": "code",
   "execution_count": null,
   "metadata": {},
   "outputs": [],
   "source": [
    "# Getting stickbot urdf file and convert it to string \n",
    "urdf_robot_file = tempfile.NamedTemporaryFile(mode=\"w+\")\n",
    "url = 'https://raw.githubusercontent.com/icub-tech-iit/ergocub-gazebo-simulations/master/models/stickBot/model.urdf'\n",
    "urllib.request.urlretrieve(url, urdf_robot_file.name)\n",
    "# Load the URDF file\n",
    "tree = ET.parse(urdf_robot_file.name)\n",
    "root = tree.getroot()\n",
    "\n",
    "# Convert the XML tree to a string\n",
    "robot_urdf_string_original = ET.tostring(root)\n",
    "\n",
    "create_urdf_instance = createUrdf(\n",
    "    original_urdf_path=urdf_robot_file.name, save_gazebo_plugin=False\n",
    ")"
   ]
  },
  {
   "cell_type": "code",
   "execution_count": null,
   "metadata": {},
   "outputs": [],
   "source": [
    "# Define parametric links and controlled joints  \n",
    "legs_link_names = [\"hip_3\", \"lower_leg\"]\n",
    "joint_name_list = [\n",
    "    \"l_shoulder_pitch\",\n",
    "    \"l_shoulder_roll\",\n",
    "    \"l_shoulder_yaw\",\n",
    "    \"l_elbow\",\n",
    "    \"r_shoulder_pitch\",\n",
    "    \"r_shoulder_roll\",\n",
    "    \"r_shoulder_yaw\",\n",
    "    \"r_elbow\",\n",
    "    \"l_hip_pitch\",\n",
    "    \"l_hip_roll\",\n",
    "    \"l_hip_yaw\",\n",
    "    \"l_knee\",\n",
    "    \"l_ankle_pitch\",\n",
    "    \"l_ankle_roll\",\n",
    "    \"r_hip_pitch\",\n",
    "    \"r_hip_roll\",\n",
    "    \"r_hip_yaw\",\n",
    "    \"r_knee\",\n",
    "    \"r_ankle_pitch\",\n",
    "    \"r_ankle_roll\",\n",
    "]"
   ]
  },
  {
   "cell_type": "code",
   "execution_count": null,
   "metadata": {},
   "outputs": [],
   "source": [
    "# Define the robot modifications\n",
    "modifications = {}\n",
    "for item in legs_link_names:\n",
    "    left_leg_item = \"l_\" + item\n",
    "    right_leg_item = \"r_\" + item\n",
    "    modifications.update({left_leg_item: 1.2})\n",
    "    modifications.update({right_leg_item: 1.2})\n",
    "# Motors Parameters \n",
    "Im_arms = 1e-3*np.ones(4) # from 0-4\n",
    "Im_legs = 1e-3*np.ones(6) # from 5-10\n",
    "kv_arms = 0.001*np.ones(4) # from 11-14\n",
    "kv_legs = 0.001*np.ones(6) #from 20\n",
    "\n",
    "Im = np.concatenate((Im_arms, Im_arms, Im_legs, Im_legs))\n",
    "kv = np.concatenate((kv_arms, kv_arms, kv_legs, kv_legs))"
   ]
  },
  {
   "cell_type": "code",
   "execution_count": null,
   "metadata": {},
   "outputs": [],
   "source": [
    "# Modify the robot model and initialize\n",
    "create_urdf_instance.modify_lengths(modifications)\n",
    "urdf_robot_string = create_urdf_instance.write_urdf_to_file()\n",
    "create_urdf_instance.reset_modifications()\n",
    "robot_model_init = RobotModel(urdf_robot_string, \"stickBot\", joint_name_list)\n",
    "s_des, xyz_rpy, H_b = robot_model_init.compute_desired_position_walking()\n",
    "robot_model_init.set_initial_position(s_init=s_des, w_H_b_init=H_b, xyz_rpy_init=xyz_rpy)\n",
    "robot_model_init.set_foot_corner(np.asarray([0.1, 0.05, 0.0]),np.asarray([0.1, -0.05, 0.0]),np.asarray([-0.1, -0.05, 0.0]),np.asarray([-0.1, 0.05, 0.0]))"
   ]
  },
  {
   "cell_type": "code",
   "execution_count": null,
   "metadata": {},
   "outputs": [],
   "source": [
    "hippopt_planner = HippoptWalkingPlanner(robot_model_init)\n",
    "hippopt_parameters = HippoptWalkingParameterTuning()\n",
    "hippopt_parameters.step_length = 0.2\n",
    "hippopt_planner.initialize_planner(hippopt_parameters)\n",
    "hippopt_planner.visualizer_init()\n",
    "hippopt_planner.visualize_state(hippopt_planner.guess)"
   ]
  },
  {
   "cell_type": "code",
   "execution_count": null,
   "metadata": {},
   "outputs": [],
   "source": [
    "hippopt_planner.plan_trajectory()\n",
    "hippopt_planner.visualize_state(hippopt_planner.humanoid_states)\n",
    "# print(hippopt_planner.humanoid_states)"
   ]
  },
  {
   "cell_type": "code",
   "execution_count": null,
   "metadata": {},
   "outputs": [],
   "source": [
    "\n",
    "from comodo.centroidalMPC.footPositionPlanner import FootPositionPlanner\n",
    "foot_pos_planner = FootPositionPlanner(robot_model_init, 0.1,0.6)\n",
    "foot_pos_planner.plot_feet_position(hippopt_planner.contact_phase_list_left, hippopt_planner.contact_phase_list_right)"
   ]
  },
  {
   "cell_type": "code",
   "execution_count": null,
   "metadata": {},
   "outputs": [],
   "source": [
    "import matplotlib.pyplot as plt\n",
    "frequency_ms = 100\n",
    "dT_in_seconds = frequency_ms / 1000\n",
    "com_x = []\n",
    "com_y = []\n",
    "com_z= []\n",
    "time_plot = []\n",
    "for i in range(len(hippopt_planner.com_traj)):\n",
    "    com_i = hippopt_planner.com_traj[i]\n",
    "    com_x.append(com_i[0])\n",
    "    com_y.append(com_i[1])\n",
    "    com_z.append(com_i[2])\n",
    "    time_plot.append(i * dT_in_seconds)\n",
    "\n",
    "plt.figure()\n",
    "plt.plot(time_plot, com_x, label = \"x\")\n",
    "plt.plot(time_plot, com_y, label = \"y\")\n",
    "plt.plot(time_plot, com_z, label = \"z\")\n",
    "plt.legend()\n",
    "plt.title(\"CoM\", fontsize=\"60\")\n",
    "plt.xlabel(\"t [sec]\", fontsize=\"40\")\n",
    "plt.ylabel(\" [m]\", fontsize=\"40\")\n",
    "plt.show()\n",
    "\n"
   ]
  },
  {
   "cell_type": "code",
   "execution_count": null,
   "metadata": {},
   "outputs": [],
   "source": [
    "initial_state = hippopt_planner.initial_state\n",
    "s_des = initial_state.kinematics.joints.positions\n",
    "xyz = initial_state.kinematics.base.position\n",
    "xyzw = initial_state.kinematics.base.quaternion_xyzw \n",
    "wxyz_xyz = np.asarray([xyzw[3],xyzw[0],xyzw[1] ,xyzw[2], xyz[0], xyz[1], xyz[2]])\n",
    "from_quat_to_matrix = robot_model_init.from_quaternion_to_matrix()\n",
    "H_base = from_quat_to_matrix(wxyz_xyz)\n",
    "xyz_rpy = robot_model_init.matrix_to_rpy(H_base)\n"
   ]
  },
  {
   "cell_type": "code",
   "execution_count": null,
   "metadata": {},
   "outputs": [],
   "source": [
    "# Comodo import\n",
    "from comodo.mujocoSimulator.mujocoSimulator import MujocoSimulator\n",
    "from comodo.robotModel.robotModel import RobotModel\n",
    "from comodo.robotModel.createUrdf import createUrdf\n",
    "from comodo.centroidalMPC.centroidalMPC import CentroidalMPC\n",
    "from comodo.centroidalMPC.mpcParameterTuning import MPCParameterTuning\n",
    "from comodo.TSIDController.TSIDParameterTuning import TSIDParameterTuning\n",
    "from comodo.TSIDController.TSIDController import TSIDController"
   ]
  },
  {
   "cell_type": "code",
   "execution_count": null,
   "metadata": {},
   "outputs": [],
   "source": [
    "# Define simulator and set initial position\n",
    "mujoco_instance = MujocoSimulator()\n",
    "mujoco_instance.load_model(\n",
    "    robot_model_init, s=s_des, xyz_rpy=xyz_rpy, kv_motors=kv, Im=Im\n",
    ")\n",
    "s, ds, tau = mujoco_instance.get_state()\n",
    "t = mujoco_instance.get_simulation_time()\n",
    "H_b = mujoco_instance.get_base()\n",
    "w_b = mujoco_instance.get_base_velocity()\n",
    "mujoco_instance.set_visualize_robot_flag(True)"
   ]
  },
  {
   "cell_type": "code",
   "execution_count": null,
   "metadata": {},
   "outputs": [],
   "source": [
    "# Define the controller parameters  and instantiate the controller\n",
    "# Controller Parameters\n",
    "tsid_parameter = TSIDParameterTuning()\n",
    "mpc_parameters = MPCParameterTuning()\n",
    "\n",
    "# TSID Instance\n",
    "TSID_controller_instance = TSIDController(frequency=0.01, robot_model=robot_model_init)\n",
    "TSID_controller_instance.define_tasks(tsid_parameter)\n",
    "TSID_controller_instance.set_state_with_base(s, ds, H_b, w_b, t)\n",
    "\n",
    "# MPC Instance\n",
    "step_lenght = 0.1\n",
    "mpc = CentroidalMPC(robot_model=robot_model_init, step_length=step_lenght)\n",
    "mpc.intialize_mpc(mpc_parameters=mpc_parameters)\n",
    "\n",
    "# Set desired quantities\n",
    "mpc.configure_with_feet_position(hippopt_planner.contact_phase_list_left, hippopt_planner.contact_phase_list_right)\n",
    "mpc.set_reference_mpc_ext(hippopt_planner.com_traj, hippopt_planner.ang_mom_traj,hippopt_planner.contact_phase_list)\n",
    "# TSID_controller_instance.compute_com_position()\n",
    "# mpc.define_test_com_traj(TSID_controller_instance.COM.toNumPy())\n",
    "\n",
    "# Set initial robot state  and plan trajectories\n",
    "mujoco_instance.step(1)\n",
    "\n",
    "# Reading the state\n",
    "s, ds, tau = mujoco_instance.get_state()\n",
    "H_b = mujoco_instance.get_base()\n",
    "w_b = mujoco_instance.get_base_velocity()\n",
    "t = mujoco_instance.get_simulation_time()\n",
    "\n",
    "# MPC\n",
    "mpc.set_state_with_base(s=s, s_dot=ds, H_b=H_b, w_b=w_b, t=t)\n",
    "mpc.initialize_centroidal_integrator(s=s, s_dot=ds, H_b=H_b, w_b=w_b, t=t)\n",
    "mpc_output = mpc.plan_trajectory()"
   ]
  },
  {
   "cell_type": "code",
   "execution_count": null,
   "metadata": {},
   "outputs": [],
   "source": [
    "# Set loop variables\n",
    "TIME_TH = 20\n",
    "\n",
    "# Define number of steps\n",
    "n_step = int(\n",
    "    TSID_controller_instance.frequency / mujoco_instance.get_simulation_frequency()\n",
    ")\n",
    "n_step_mpc_tsid = int(mpc.get_frequency_seconds() / TSID_controller_instance.frequency)\n",
    "\n",
    "counter = 0\n",
    "mpc_success = True\n",
    "energy_tot = 0.0\n",
    "succeded_controller = True"
   ]
  },
  {
   "cell_type": "code",
   "execution_count": null,
   "metadata": {},
   "outputs": [],
   "source": [
    "# Simulation-control loop\n",
    "while t < TIME_TH:\n",
    "    # Reading robot state from simulator\n",
    "    s, ds, tau = mujoco_instance.get_state()\n",
    "    energy_i = np.linalg.norm(tau)\n",
    "    H_b = mujoco_instance.get_base()\n",
    "    w_b = mujoco_instance.get_base_velocity()\n",
    "    t = mujoco_instance.get_simulation_time()\n",
    "\n",
    "    # Update TSID\n",
    "    TSID_controller_instance.set_state_with_base(s=s_des, s_dot=ds, H_b=H_b, w_b=w_b, t=t)\n",
    "\n",
    "    # MPC plan\n",
    "    if counter == 0:\n",
    "        # mpc.set_state_with_base(s=s, s_dot=ds, H_b=H_b, w_b=w_b, t=t)\n",
    "        mpc.update_references()\n",
    "        mpc_success = mpc.plan_trajectory()\n",
    "        mpc.contact_planner.advance_swing_foot_planner()\n",
    "        if not (mpc_success):\n",
    "            print(\"MPC failed\")\n",
    "            break\n",
    "\n",
    "    # Reading new references\n",
    "    com, dcom, forces_left, forces_right, ang_mom = mpc.get_references()\n",
    "    left_foot, right_foot = mpc.contact_planner.get_references_swing_foot_planner()\n",
    "\n",
    "    # Update references TSID\n",
    "    TSID_controller_instance.update_task_references_mpc(\n",
    "        com=com,\n",
    "        dcom=np.zeros(3),\n",
    "        ddcom=np.zeros(3),\n",
    "        left_foot_desired=left_foot,\n",
    "        right_foot_desired=right_foot,\n",
    "        s_desired=np.array(s_des),\n",
    "        wrenches_left=forces_left,\n",
    "        wrenches_right=forces_right,\n",
    "    )\n",
    "\n",
    "    # Run control\n",
    "    succeded_controller = TSID_controller_instance.run()\n",
    "\n",
    "    if not (succeded_controller):\n",
    "        print(\"Controller failed\")\n",
    "        break\n",
    "\n",
    "    tau = TSID_controller_instance.get_torque()\n",
    "\n",
    "    # Step the simulator\n",
    "    mujoco_instance.set_input(tau)\n",
    "    mujoco_instance.step()\n",
    "    # mujoco_instance.step_with_motors(n_step=n_step, torque=tau)\n",
    "    counter = counter + 1\n",
    "\n",
    "    if counter == n_step_mpc_tsid:\n",
    "        counter = 0"
   ]
  },
  {
   "cell_type": "code",
   "execution_count": null,
   "metadata": {},
   "outputs": [],
   "source": [
    "# Closing visualization\n",
    "mujoco_instance.close_visualization()"
   ]
  }
 ],
 "metadata": {
  "kernelspec": {
   "display_name": "comododev",
   "language": "python",
   "name": "python3"
  },
  "language_info": {
   "codemirror_mode": {
    "name": "ipython",
    "version": 3
   },
   "file_extension": ".py",
   "mimetype": "text/x-python",
   "name": "python",
   "nbconvert_exporter": "python",
   "pygments_lexer": "ipython3",
   "version": "3.10.14"
  }
 },
 "nbformat": 4,
 "nbformat_minor": 2
}
