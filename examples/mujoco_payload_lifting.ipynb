{
 "cells": [
  {
   "cell_type": "markdown",
   "metadata": {},
   "source": [
    "# Mujoco Payload Lifting Controller Example \n",
    "This example load a basic robot model(i.e. composed by basic shapes), modify the links of the robot by elongating the legs, define instances of payload liftin planner and istnataneous controller and simulates the robot behavior with mujoco ."
   ]
  },
  {
   "cell_type": "code",
   "execution_count": null,
   "metadata": {},
   "outputs": [],
   "source": [
    "# Comodo import\n",
    "from comodo.mujocoSimulator.mujocoSimulator import MujocoSimulator\n",
    "from comodo.robotModel.robotModel import RobotModel\n",
    "from comodo.robotModel.createUrdf import createUrdf\n",
    "from comodo.ergonomyPlanner.planErgonomyTrajectory import PlanErgonomyTrajectory\n",
    "from comodo.payloadLiftingController.payloadLiftingController import PayloadLiftingController\n",
    "from comodo.payloadLiftingController.payloadLiftingParameterTuning import PayloadLiftingControllerParameters"
   ]
  },
  {
   "cell_type": "code",
   "execution_count": null,
   "metadata": {},
   "outputs": [],
   "source": [
    "# General  import\n",
    "import xml.etree.ElementTree as ET\n",
    "import numpy as np\n",
    "import tempfile\n",
    "import urllib.request"
   ]
  },
  {
   "cell_type": "code",
   "execution_count": null,
   "metadata": {},
   "outputs": [],
   "source": [
    "# Getting stickbot urdf file and convert it to string\n",
    "urdf_robot_file = tempfile.NamedTemporaryFile(mode=\"w+\")\n",
    "url = \"https://raw.githubusercontent.com/icub-tech-iit/ergocub-gazebo-simulations/master/models/stickBot/model.urdf\"\n",
    "urllib.request.urlretrieve(url, urdf_robot_file.name)\n",
    "# Load the URDF file\n",
    "tree = ET.parse(urdf_robot_file.name)\n",
    "root = tree.getroot()\n",
    "\n",
    "# Convert the XML tree to a string\n",
    "robot_urdf_string_original = ET.tostring(root)\n",
    "\n",
    "create_urdf_instance = createUrdf(\n",
    "    original_urdf_path=urdf_robot_file.name, save_gazebo_plugin=False\n",
    ")"
   ]
  },
  {
   "cell_type": "code",
   "execution_count": null,
   "metadata": {},
   "outputs": [],
   "source": [
    "# Define parametric links and controlled joints\n",
    "legs_link_names = [\"hip_3\", \"lower_leg\"]\n",
    "joint_name_list = [\n",
    "    \"r_shoulder_pitch\",\n",
    "    \"r_shoulder_roll\",\n",
    "    \"r_shoulder_yaw\",\n",
    "    \"r_elbow\",\n",
    "    \"l_shoulder_pitch\",\n",
    "    \"l_shoulder_roll\",\n",
    "    \"l_shoulder_yaw\",\n",
    "    \"l_elbow\",\n",
    "    \"r_hip_pitch\",\n",
    "    \"r_hip_roll\",\n",
    "    \"r_hip_yaw\",\n",
    "    \"r_knee\",\n",
    "    \"r_ankle_pitch\",\n",
    "    \"r_ankle_roll\",\n",
    "    \"l_hip_pitch\",\n",
    "    \"l_hip_roll\",\n",
    "    \"l_hip_yaw\",\n",
    "    \"l_knee\",\n",
    "    \"l_ankle_pitch\",\n",
    "    \"l_ankle_roll\",\n",
    "]"
   ]
  },
  {
   "cell_type": "code",
   "execution_count": null,
   "metadata": {},
   "outputs": [],
   "source": [
    "# Define the robot modifications\n",
    "modifications = {}\n",
    "for item in legs_link_names:\n",
    "    left_leg_item = \"l_\" + item\n",
    "    right_leg_item = \"r_\" + item\n",
    "    modifications.update({left_leg_item: 1.2})\n",
    "    modifications.update({right_leg_item: 1.2})\n",
    "# Motors Parameters\n",
    "Im_arms = 1e-3 * np.ones(4)  # from 0-4\n",
    "Im_legs = 1e-3 * np.ones(6)  # from 5-10\n",
    "kv_arms = 0.001 * np.ones(4)  # from 11-14\n",
    "kv_legs = 0.001 * np.ones(6)  # from 20\n",
    "\n",
    "Im = np.concatenate((Im_arms, Im_arms, Im_legs, Im_legs))\n",
    "kv = np.concatenate((kv_arms, kv_arms, kv_legs, kv_legs))"
   ]
  },
  {
   "cell_type": "code",
   "execution_count": null,
   "metadata": {},
   "outputs": [],
   "source": [
    "# Modify the robot model and initialize\n",
    "create_urdf_instance.modify_lengths(modifications)\n",
    "urdf_robot_string = create_urdf_instance.write_urdf_to_file()\n",
    "create_urdf_instance.reset_modifications()\n",
    "robot_model_init = RobotModel(urdf_robot_string, \"stickBot\", joint_name_list)"
   ]
  },
  {
   "cell_type": "code",
   "execution_count": null,
   "metadata": {},
   "outputs": [],
   "source": [
    "## Planning the ergonomic trajectory for payload lifting \n",
    "plan_trajectory = PlanErgonomyTrajectory(robot_model=robot_model_init)\n",
    "\n",
    "if(not(plan_trajectory.plan_trajectory())):\n",
    "   raise ValueError(\"unable to plan the trajectory \")\n",
    " "
   ]
  },
  {
   "cell_type": "code",
   "execution_count": null,
   "metadata": {},
   "outputs": [],
   "source": [
    "# Define simulator and set initial position\n",
    "mujoco_instance = MujocoSimulator()\n",
    "mujoco_instance.load_model(\n",
    "    robot_model_init, s=plan_trajectory.s_opti[0], xyz_rpy=plan_trajectory.xyz_rpy[0], kv_motors=kv, Im=Im\n",
    ")\n",
    "s, ds, tau = mujoco_instance.get_state()\n",
    "t = mujoco_instance.get_simulation_time()\n",
    "H_b = mujoco_instance.get_base()\n",
    "w_b = mujoco_instance.get_base_velocity()\n",
    "mujoco_instance.set_visualize_robot_flag(True)"
   ]
  },
  {
   "cell_type": "code",
   "execution_count": null,
   "metadata": {},
   "outputs": [],
   "source": [
    "## Defining controller \n",
    "lifting_controller_instance = PayloadLiftingController(frequency=0.01, robot_model=robot_model_init)\n",
    "lifting_controller_instance.set_state(s,ds,t)\n",
    "param_lifting_controller = PayloadLiftingControllerParameters()\n",
    "lifting_controller_instance.set_control_gains(\n",
    "postural_Kp=param_lifting_controller.joints_Kp_parameters,\n",
    "CoM_Kp=param_lifting_controller.CoM_Kp,\n",
    "CoM_Ki=param_lifting_controller.CoM_Ki,\n",
    ")\n",
    "lifting_controller_instance.set_time_interval_state_machine(10, 40, 40)\n",
    "lifting_controller_instance.initialize_state_machine(\n",
    "    joint_pos_1=plan_trajectory.s_opti[1], joint_pos_2=plan_trajectory.s_opti[2]\n",
    ")\n"
   ]
  },
  {
   "cell_type": "code",
   "execution_count": null,
   "metadata": {},
   "outputs": [],
   "source": [
    "n_step = int(lifting_controller_instance.frequency/mujoco_instance.get_simulation_frequency())\n",
    "TIME_TH = 75\n",
    "\n",
    "while(t<TIME_TH):     \n",
    "    # Updating the states \n",
    "    s,ds,tau = mujoco_instance.get_state()\n",
    "    t = mujoco_instance.get_simulation_time()\n",
    "    lifting_controller_instance.set_state(s,ds,t)\n",
    "\n",
    "    # Running the controller \n",
    "    controller_succed= lifting_controller_instance.run()\n",
    "    if(not(controller_succed)): \n",
    "        break\n",
    "    tau = lifting_controller_instance.get_torque()\n",
    "    mujoco_instance.set_input(tau)\n",
    "    mujoco_instance.step(int(n_step))"
   ]
  },
  {
   "cell_type": "code",
   "execution_count": null,
   "metadata": {},
   "outputs": [],
   "source": [
    "# Closing visualization\n",
    "mujoco_instance.close_visualization()"
   ]
  }
 ],
 "metadata": {
  "kernelspec": {
   "display_name": "comododev",
   "language": "python",
   "name": "python3"
  },
  "language_info": {
   "codemirror_mode": {
    "name": "ipython",
    "version": 3
   },
   "file_extension": ".py",
   "mimetype": "text/x-python",
   "name": "python",
   "nbconvert_exporter": "python",
   "pygments_lexer": "ipython3",
   "version": "3.10.14"
  }
 },
 "nbformat": 4,
 "nbformat_minor": 2
}
